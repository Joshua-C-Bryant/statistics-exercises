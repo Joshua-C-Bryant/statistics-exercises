{
 "cells": [
  {
   "cell_type": "code",
   "execution_count": 1,
   "id": "47207a99",
   "metadata": {},
   "outputs": [],
   "source": [
    "import numpy as np\n",
    "import pandas as pd"
   ]
  },
  {
   "cell_type": "code",
   "execution_count": 2,
   "id": "763546c2",
   "metadata": {},
   "outputs": [
    {
     "data": {
      "text/plain": [
       "array([[2, 3],\n",
       "       [3, 4],\n",
       "       [1, 6],\n",
       "       ...,\n",
       "       [1, 3],\n",
       "       [4, 3],\n",
       "       [3, 4]])"
      ]
     },
     "execution_count": 2,
     "metadata": {},
     "output_type": "execute_result"
    }
   ],
   "source": [
    "# 1 How likely is it that you roll doubles when rolling two dice?\n",
    "\n",
    "n_trials = 100_000\n",
    "outcome = [1, 2, 3, 4, 5, 6]\n",
    "\n",
    "rolls = np.random.choice(outcome, size=(n_trials, 2))\n",
    "\n",
    "rolls"
   ]
  },
  {
   "cell_type": "code",
   "execution_count": 3,
   "id": "a7796313",
   "metadata": {},
   "outputs": [
    {
     "data": {
      "text/plain": [
       "0.16631"
      ]
     },
     "execution_count": 3,
     "metadata": {},
     "output_type": "execute_result"
    }
   ],
   "source": [
    "die1 = np.random.choice(outcome, size = n_trials)\n",
    "die2 = np.random.choice(outcome, size = n_trials)\n",
    "\n",
    "doubles = die1 == die2\n",
    "doubles.mean()"
   ]
  },
  {
   "cell_type": "code",
   "execution_count": 4,
   "id": "22b2664d",
   "metadata": {},
   "outputs": [
    {
     "data": {
      "text/plain": [
       "0.22007"
      ]
     },
     "execution_count": 4,
     "metadata": {},
     "output_type": "execute_result"
    }
   ],
   "source": [
    "# 2 If you flip 8 coins, what is the probability of getting exactly 3 heads? \n",
    "# What is the probability of getting more than 3 heads?\n",
    "\n",
    "n_trials = nrows = 100_000\n",
    "n_coins = ncols = 8\n",
    "\n",
    "flips = np.random.choice([1,0],n_trials * n_coins).reshape(nrows,ncols)\n",
    "flips = pd.DataFrame(flips)\n",
    "flips\n",
    "\n",
    "three_heads = flips.sum(axis=1) == 3\n",
    "three_heads.mean()"
   ]
  },
  {
   "cell_type": "code",
   "execution_count": 5,
   "id": "63cab66d",
   "metadata": {},
   "outputs": [
    {
     "data": {
      "text/plain": [
       "0.062875"
      ]
     },
     "execution_count": 5,
     "metadata": {},
     "output_type": "execute_result"
    }
   ],
   "source": [
    "# 3 There are approximitely 3 web development cohorts for every 1 data science cohort at Codeup. \n",
    "# Assuming that Codeup randomly selects an alumni to put on a billboard, \n",
    "# what are the odds that the two billboards I drive past both have data science students on them?\n",
    "\n",
    "outcomes = [1,0]\n",
    "board1 = np.random.choice([1,0], size=(100_000, 2), p =[0.75,0.25])\n",
    "board2 = np.random.choice([1,0], size=(100_000, 2), p =[0.75,0.25])\n",
    "\n",
    "prob_of_zeros = (board1 == [0,0]) & (board2 == [0,0])\n",
    "prob_of_zeros.mean()"
   ]
  },
  {
   "cell_type": "code",
   "execution_count": 6,
   "id": "21f0a4bf",
   "metadata": {},
   "outputs": [
    {
     "data": {
      "text/plain": [
       "0        15.657674\n",
       "1        15.296289\n",
       "2        14.710887\n",
       "3        19.243520\n",
       "4        14.255598\n",
       "           ...    \n",
       "99995    15.341805\n",
       "99996     8.132730\n",
       "99997    15.534415\n",
       "99998    16.351044\n",
       "99999    12.860487\n",
       "Length: 100000, dtype: float64"
      ]
     },
     "execution_count": 6,
     "metadata": {},
     "output_type": "execute_result"
    }
   ],
   "source": [
    "# 4 Codeup students buy, on average, 3 poptart packages (+- 1.5) a day from the snack vending machine. \n",
    "# If on monday the machine is restocked with 17 poptart packages, \n",
    "# how likely is it that I will be able to buy some poptarts on Friday afternoon?\n",
    "\n",
    "n_trials = nrows = 100_000\n",
    "n_days = ncols = 5\n",
    "\n",
    "#np.random.normal(loc = mean, scale = std, size = rows, columns)\n",
    "poptarts = np.random.normal(3, 1.5,(nrows,ncols))\n",
    "poptarts = pd.DataFrame(poptarts)\n",
    "\n",
    "pop_tarts_sum = poptarts.sum(axis=1)\n",
    "pop_tarts_sum"
   ]
  },
  {
   "cell_type": "code",
   "execution_count": 7,
   "id": "c9a88e0e",
   "metadata": {},
   "outputs": [
    {
     "data": {
      "text/plain": [
       "0         True\n",
       "1         True\n",
       "2         True\n",
       "3        False\n",
       "4         True\n",
       "         ...  \n",
       "99995     True\n",
       "99996     True\n",
       "99997     True\n",
       "99998     True\n",
       "99999     True\n",
       "Length: 100000, dtype: bool"
      ]
     },
     "execution_count": 7,
     "metadata": {},
     "output_type": "execute_result"
    }
   ],
   "source": [
    "gonna_eat = pop_tarts_sum < 17\n",
    "gonna_eat"
   ]
  },
  {
   "cell_type": "code",
   "execution_count": 8,
   "id": "249a7ee0",
   "metadata": {},
   "outputs": [
    {
     "data": {
      "text/plain": [
       "0.72625"
      ]
     },
     "execution_count": 8,
     "metadata": {},
     "output_type": "execute_result"
    }
   ],
   "source": [
    "gonna_eat.mean()"
   ]
  },
  {
   "cell_type": "code",
   "execution_count": 9,
   "id": "e3c5033d",
   "metadata": {},
   "outputs": [
    {
     "data": {
      "text/plain": [
       "0.2119304"
      ]
     },
     "execution_count": 9,
     "metadata": {},
     "output_type": "execute_result"
    }
   ],
   "source": [
    "# 5  Compare Heights\n",
    "# Men have an average height of 178 cm and standard deviation of 8cm.\n",
    "# Women have a mean of 170, sd = 6cm.\n",
    "# Since you have means and standard deviations, you can use np.random.normal to generate observations.\n",
    "# If a man and woman are chosen at random, P(woman taller than man)?\n",
    "\n",
    "n_trials = 10000000\n",
    "\n",
    "men = np.random.normal(178,8,size = n_trials)\n",
    "women = np.random.normal(170,6,size = n_trials)\n",
    "\n",
    "woman_taller = women > men\n",
    "woman_taller.mean()"
   ]
  },
  {
   "cell_type": "code",
   "execution_count": 10,
   "id": "a8983ba9",
   "metadata": {},
   "outputs": [
    {
     "data": {
      "text/plain": [
       "0.818884"
      ]
     },
     "execution_count": 10,
     "metadata": {},
     "output_type": "execute_result"
    }
   ],
   "source": [
    "# 6 When installing anaconda on a student's computer, there's a 1 in 250 chance that the download is corrupted and the installation fails. \n",
    "# What are the odds that after having 50 students download anaconda, no one has an installation issue? 100 students?\n",
    "\n",
    "# 1 in 50\n",
    "odds = 1/250\n",
    "students = ncols = 50\n",
    "n_trials = nrows = 1000000\n",
    "outcomes = [1,0]\n",
    "p_outcomes = [odds, 1 - odds]\n",
    "\n",
    "installs = np.random.choice(outcomes, (nrows,ncols), p=p_outcomes)\n",
    "installs = pd.DataFrame(installs)\n",
    "installs\n",
    "\n",
    "success = installs.sum(axis=1) < 1\n",
    "success.mean()"
   ]
  },
  {
   "cell_type": "code",
   "execution_count": 11,
   "id": "132e8793",
   "metadata": {},
   "outputs": [
    {
     "data": {
      "text/plain": [
       "0.669948"
      ]
     },
     "execution_count": 11,
     "metadata": {},
     "output_type": "execute_result"
    }
   ],
   "source": [
    "# 1 in 100\n",
    "odds = 1/250\n",
    "students = ncols = 100\n",
    "n_trials = nrows = 1000000\n",
    "outcomes = [1,0]\n",
    "p_outcomes = [odds, 1 - odds]\n",
    "\n",
    "installs = np.random.choice(outcomes, (nrows,ncols), p=p_outcomes)\n",
    "installs = pd.DataFrame(installs)\n",
    "installs\n",
    "\n",
    "success = installs.sum(axis=1) < 1\n",
    "success.mean()"
   ]
  },
  {
   "cell_type": "code",
   "execution_count": 12,
   "id": "dc451a17",
   "metadata": {},
   "outputs": [
    {
     "data": {
      "text/plain": [
       "0.451812"
      ]
     },
     "execution_count": 12,
     "metadata": {},
     "output_type": "execute_result"
    }
   ],
   "source": [
    "# Probability we see an issue in 150\n",
    "odds = 1/250\n",
    "students = ncols = 150\n",
    "n_trials = nrows = 1000000\n",
    "outcomes = [1,0]\n",
    "p_outcomes = [odds, 1 - odds]\n",
    "\n",
    "installs = np.random.choice(outcomes, (nrows,ncols), p=p_outcomes)\n",
    "installs = pd.DataFrame(installs)\n",
    "installs\n",
    "\n",
    "success = installs.sum(axis=1) >= 1\n",
    "success.mean()"
   ]
  },
  {
   "cell_type": "code",
   "execution_count": 13,
   "id": "fe76530c",
   "metadata": {},
   "outputs": [
    {
     "data": {
      "text/plain": [
       "0.165176"
      ]
     },
     "execution_count": 13,
     "metadata": {},
     "output_type": "execute_result"
    }
   ],
   "source": [
    "#450 with no issue?\n",
    "odds = 1/250\n",
    "students = ncols = 450\n",
    "n_trials = nrows = 1000000\n",
    "outcomes = [1,0]\n",
    "p_outcomes = [odds, 1 - odds]\n",
    "\n",
    "installs = np.random.choice(outcomes, (nrows,ncols), p=p_outcomes)\n",
    "installs = pd.DataFrame(installs)\n",
    "installs\n",
    "\n",
    "success = installs.sum(axis=1) < 1\n",
    "success.mean()"
   ]
  },
  {
   "cell_type": "code",
   "execution_count": 14,
   "id": "daaa13af",
   "metadata": {},
   "outputs": [
    {
     "data": {
      "text/plain": [
       "array([[1, 0, 1],\n",
       "       [1, 1, 1],\n",
       "       [1, 1, 0],\n",
       "       ...,\n",
       "       [1, 1, 1],\n",
       "       [0, 1, 1],\n",
       "       [1, 1, 1]])"
      ]
     },
     "execution_count": 14,
     "metadata": {},
     "output_type": "execute_result"
    }
   ],
   "source": [
    "# 7 There's a 70% chance on any given day that there will be at least one food truck at Travis Park. \n",
    "# However, you haven't seen a food truck there in 3 days. How unlikely is this?\n",
    "\n",
    "p_truck = (0.7,0.3)\n",
    "days = ncols = 3\n",
    "trials = nrows = 10000\n",
    "outcomes = [1,0]\n",
    "\n",
    "no_trucks = np.random.choice(outcomes,(nrows,ncols), p=p_truck)\n",
    "no_trucks"
   ]
  },
  {
   "cell_type": "code",
   "execution_count": 15,
   "id": "24fec6ce",
   "metadata": {},
   "outputs": [],
   "source": [
    "no_trucks = pd.DataFrame(no_trucks)"
   ]
  },
  {
   "cell_type": "code",
   "execution_count": 16,
   "id": "1c8decb2",
   "metadata": {},
   "outputs": [
    {
     "data": {
      "text/plain": [
       "0.0265"
      ]
     },
     "execution_count": 16,
     "metadata": {},
     "output_type": "execute_result"
    }
   ],
   "source": [
    "# How unlikely?\n",
    "p_no_trucks_three_days = no_trucks.sum(axis=1) == 0\n",
    "p_no_trucks_three_days.mean()"
   ]
  },
  {
   "cell_type": "code",
   "execution_count": 17,
   "id": "62f7362f",
   "metadata": {},
   "outputs": [
    {
     "data": {
      "text/plain": [
       "array([[1, 0, 0, ..., 0, 1, 0],\n",
       "       [0, 0, 0, ..., 1, 1, 0],\n",
       "       [0, 1, 1, ..., 1, 1, 1],\n",
       "       ...,\n",
       "       [1, 1, 0, ..., 1, 0, 1],\n",
       "       [0, 1, 1, ..., 1, 1, 0],\n",
       "       [1, 1, 1, ..., 1, 1, 0]])"
      ]
     },
     "execution_count": 17,
     "metadata": {},
     "output_type": "execute_result"
    }
   ],
   "source": [
    "# How likely that a truck shows up sometime this week?\n",
    "p_truck = (0.7,0.3)\n",
    "days = ncols = 7\n",
    "trials = nrows = 100_000\n",
    "outcomes = [1,0]\n",
    "\n",
    "truck_shows_up = np.random.choice(outcomes,(nrows,ncols), p=p_truck)\n",
    "truck_shows_up"
   ]
  },
  {
   "cell_type": "code",
   "execution_count": 18,
   "id": "960605a0",
   "metadata": {},
   "outputs": [
    {
     "data": {
      "text/html": [
       "<div>\n",
       "<style scoped>\n",
       "    .dataframe tbody tr th:only-of-type {\n",
       "        vertical-align: middle;\n",
       "    }\n",
       "\n",
       "    .dataframe tbody tr th {\n",
       "        vertical-align: top;\n",
       "    }\n",
       "\n",
       "    .dataframe thead th {\n",
       "        text-align: right;\n",
       "    }\n",
       "</style>\n",
       "<table border=\"1\" class=\"dataframe\">\n",
       "  <thead>\n",
       "    <tr style=\"text-align: right;\">\n",
       "      <th></th>\n",
       "      <th>0</th>\n",
       "      <th>1</th>\n",
       "      <th>2</th>\n",
       "      <th>3</th>\n",
       "      <th>4</th>\n",
       "      <th>5</th>\n",
       "      <th>6</th>\n",
       "    </tr>\n",
       "  </thead>\n",
       "  <tbody>\n",
       "    <tr>\n",
       "      <th>0</th>\n",
       "      <td>1</td>\n",
       "      <td>0</td>\n",
       "      <td>0</td>\n",
       "      <td>1</td>\n",
       "      <td>0</td>\n",
       "      <td>1</td>\n",
       "      <td>0</td>\n",
       "    </tr>\n",
       "    <tr>\n",
       "      <th>1</th>\n",
       "      <td>0</td>\n",
       "      <td>0</td>\n",
       "      <td>0</td>\n",
       "      <td>0</td>\n",
       "      <td>1</td>\n",
       "      <td>1</td>\n",
       "      <td>0</td>\n",
       "    </tr>\n",
       "    <tr>\n",
       "      <th>2</th>\n",
       "      <td>0</td>\n",
       "      <td>1</td>\n",
       "      <td>1</td>\n",
       "      <td>1</td>\n",
       "      <td>1</td>\n",
       "      <td>1</td>\n",
       "      <td>1</td>\n",
       "    </tr>\n",
       "    <tr>\n",
       "      <th>3</th>\n",
       "      <td>1</td>\n",
       "      <td>1</td>\n",
       "      <td>0</td>\n",
       "      <td>1</td>\n",
       "      <td>0</td>\n",
       "      <td>0</td>\n",
       "      <td>0</td>\n",
       "    </tr>\n",
       "    <tr>\n",
       "      <th>4</th>\n",
       "      <td>0</td>\n",
       "      <td>1</td>\n",
       "      <td>0</td>\n",
       "      <td>1</td>\n",
       "      <td>1</td>\n",
       "      <td>1</td>\n",
       "      <td>1</td>\n",
       "    </tr>\n",
       "    <tr>\n",
       "      <th>...</th>\n",
       "      <td>...</td>\n",
       "      <td>...</td>\n",
       "      <td>...</td>\n",
       "      <td>...</td>\n",
       "      <td>...</td>\n",
       "      <td>...</td>\n",
       "      <td>...</td>\n",
       "    </tr>\n",
       "    <tr>\n",
       "      <th>99995</th>\n",
       "      <td>1</td>\n",
       "      <td>1</td>\n",
       "      <td>1</td>\n",
       "      <td>1</td>\n",
       "      <td>0</td>\n",
       "      <td>1</td>\n",
       "      <td>1</td>\n",
       "    </tr>\n",
       "    <tr>\n",
       "      <th>99996</th>\n",
       "      <td>1</td>\n",
       "      <td>1</td>\n",
       "      <td>1</td>\n",
       "      <td>0</td>\n",
       "      <td>1</td>\n",
       "      <td>0</td>\n",
       "      <td>0</td>\n",
       "    </tr>\n",
       "    <tr>\n",
       "      <th>99997</th>\n",
       "      <td>1</td>\n",
       "      <td>1</td>\n",
       "      <td>0</td>\n",
       "      <td>1</td>\n",
       "      <td>1</td>\n",
       "      <td>0</td>\n",
       "      <td>1</td>\n",
       "    </tr>\n",
       "    <tr>\n",
       "      <th>99998</th>\n",
       "      <td>0</td>\n",
       "      <td>1</td>\n",
       "      <td>1</td>\n",
       "      <td>0</td>\n",
       "      <td>1</td>\n",
       "      <td>1</td>\n",
       "      <td>0</td>\n",
       "    </tr>\n",
       "    <tr>\n",
       "      <th>99999</th>\n",
       "      <td>1</td>\n",
       "      <td>1</td>\n",
       "      <td>1</td>\n",
       "      <td>0</td>\n",
       "      <td>1</td>\n",
       "      <td>1</td>\n",
       "      <td>0</td>\n",
       "    </tr>\n",
       "  </tbody>\n",
       "</table>\n",
       "<p>100000 rows × 7 columns</p>\n",
       "</div>"
      ],
      "text/plain": [
       "       0  1  2  3  4  5  6\n",
       "0      1  0  0  1  0  1  0\n",
       "1      0  0  0  0  1  1  0\n",
       "2      0  1  1  1  1  1  1\n",
       "3      1  1  0  1  0  0  0\n",
       "4      0  1  0  1  1  1  1\n",
       "...   .. .. .. .. .. .. ..\n",
       "99995  1  1  1  1  0  1  1\n",
       "99996  1  1  1  0  1  0  0\n",
       "99997  1  1  0  1  1  0  1\n",
       "99998  0  1  1  0  1  1  0\n",
       "99999  1  1  1  0  1  1  0\n",
       "\n",
       "[100000 rows x 7 columns]"
      ]
     },
     "execution_count": 18,
     "metadata": {},
     "output_type": "execute_result"
    }
   ],
   "source": [
    "truck_shows_up = pd.DataFrame(truck_shows_up)\n",
    "truck_shows_up"
   ]
  },
  {
   "cell_type": "code",
   "execution_count": 19,
   "id": "1bf6f60a",
   "metadata": {},
   "outputs": [
    {
     "data": {
      "text/plain": [
       "0.99972"
      ]
     },
     "execution_count": 19,
     "metadata": {},
     "output_type": "execute_result"
    }
   ],
   "source": [
    "p_truck_shows_up = truck_shows_up.sum(axis=1) != 0\n",
    "p_truck_shows_up.mean()"
   ]
  },
  {
   "cell_type": "code",
   "execution_count": 20,
   "id": "29e995ac",
   "metadata": {},
   "outputs": [
    {
     "data": {
      "text/plain": [
       "0.4887"
      ]
     },
     "execution_count": 20,
     "metadata": {},
     "output_type": "execute_result"
    }
   ],
   "source": [
    "#8 If 23 people are in the same room, what are the odds that two of them share a birthday? \n",
    "# What if it's 20 people? 40?\n",
    "\n",
    "n_people = ncols = 23\n",
    "n_trials = nrows = 10000\n",
    "days = range(365)\n",
    "\n",
    "bdays = np.random.choice(days, size=(nrows,ncols))\n",
    "bdays = pd.DataFrame(bdays)\n",
    "bdays.apply(lambda row: row.is_unique, axis=1).mean()"
   ]
  },
  {
   "cell_type": "code",
   "execution_count": 21,
   "id": "fdfdd0c5",
   "metadata": {},
   "outputs": [
    {
     "data": {
      "text/plain": [
       "0.5871"
      ]
     },
     "execution_count": 21,
     "metadata": {},
     "output_type": "execute_result"
    }
   ],
   "source": [
    "n_people = ncols = 20\n",
    "n_trials = nrows = 10000\n",
    "days = range(365)\n",
    "\n",
    "bdays = np.random.choice(days, size=(nrows,ncols))\n",
    "bdays = pd.DataFrame(bdays)\n",
    "bdays.apply(lambda row: row.is_unique, axis=1).mean()"
   ]
  },
  {
   "cell_type": "code",
   "execution_count": 22,
   "id": "12613473",
   "metadata": {},
   "outputs": [
    {
     "data": {
      "text/plain": [
       "0.1107"
      ]
     },
     "execution_count": 22,
     "metadata": {},
     "output_type": "execute_result"
    }
   ],
   "source": [
    "n_people = ncols = 40\n",
    "n_trials = nrows = 10000\n",
    "days = range(365)\n",
    "\n",
    "bdays = np.random.choice(days, size=(nrows,ncols))\n",
    "bdays = pd.DataFrame(bdays)\n",
    "bdays.apply(lambda row: row.is_unique, axis=1).mean()"
   ]
  },
  {
   "cell_type": "code",
   "execution_count": 23,
   "id": "ef0d4064",
   "metadata": {},
   "outputs": [],
   "source": [
    "# df['at_least_two_matching_birthdays'] = df.nunique(axis=1) < ncols\n",
    "# adds a column to the DataFrame that returns boolean values"
   ]
  }
 ],
 "metadata": {
  "kernelspec": {
   "display_name": "Python 3.8.8 64-bit ('base': conda)",
   "language": "python",
   "name": "python388jvsc74a57bd0b64057e63add2b45b1ffc7eab9b09c8889b419c878e2fdf0d08f837f0fc857a7"
  },
  "language_info": {
   "codemirror_mode": {
    "name": "ipython",
    "version": 3
   },
   "file_extension": ".py",
   "mimetype": "text/x-python",
   "name": "python",
   "nbconvert_exporter": "python",
   "pygments_lexer": "ipython3",
   "version": "3.8.8"
  }
 },
 "nbformat": 4,
 "nbformat_minor": 5
}
