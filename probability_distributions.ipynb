{
 "cells": [
  {
   "cell_type": "code",
   "execution_count": 40,
   "id": "9d359f79",
   "metadata": {},
   "outputs": [],
   "source": [
    "import matplotlib.pyplot as plt\n",
    "import numpy as np\n",
    "import pandas as pd\n",
    "from numpy import random\n",
    "import seaborn as sns\n",
    "from scipy import stats"
   ]
  },
  {
   "cell_type": "code",
   "execution_count": 42,
   "id": "39b2d1d2",
   "metadata": {},
   "outputs": [
    {
     "data": {
      "text/plain": [
       "0.1353352832366127"
      ]
     },
     "execution_count": 42,
     "metadata": {},
     "output_type": "execute_result"
    }
   ],
   "source": [
    "#1 A bank found that the average number of cars waiting during the \n",
    "# noon hour at a drive-up window follows a Poisson distribution \n",
    "# with a mean of 2 cars. Make a chart of this distribution and \n",
    "# answer these questions concerning the probability of cars \n",
    "# waiting at the drive-up window.\n",
    "\n",
    "\n",
    "# What is the probability that no cars drive up in the noon hour?\n",
    "mean = 2\n",
    "target = 0\n",
    "p_0_exp = stats.poisson(mean).pmf(target)\n",
    "p_0_exp"
   ]
  },
  {
   "cell_type": "code",
   "execution_count": 43,
   "id": "96b65e6e",
   "metadata": {},
   "outputs": [
    {
     "data": {
      "text/html": [
       "<div>\n",
       "<style scoped>\n",
       "    .dataframe tbody tr th:only-of-type {\n",
       "        vertical-align: middle;\n",
       "    }\n",
       "\n",
       "    .dataframe tbody tr th {\n",
       "        vertical-align: top;\n",
       "    }\n",
       "\n",
       "    .dataframe thead th {\n",
       "        text-align: right;\n",
       "    }\n",
       "</style>\n",
       "<table border=\"1\" class=\"dataframe\">\n",
       "  <thead>\n",
       "    <tr style=\"text-align: right;\">\n",
       "      <th></th>\n",
       "      <th>0</th>\n",
       "    </tr>\n",
       "  </thead>\n",
       "  <tbody>\n",
       "    <tr>\n",
       "      <th>0</th>\n",
       "      <td>3</td>\n",
       "    </tr>\n",
       "    <tr>\n",
       "      <th>1</th>\n",
       "      <td>2</td>\n",
       "    </tr>\n",
       "    <tr>\n",
       "      <th>2</th>\n",
       "      <td>2</td>\n",
       "    </tr>\n",
       "    <tr>\n",
       "      <th>3</th>\n",
       "      <td>2</td>\n",
       "    </tr>\n",
       "    <tr>\n",
       "      <th>4</th>\n",
       "      <td>3</td>\n",
       "    </tr>\n",
       "  </tbody>\n",
       "</table>\n",
       "</div>"
      ],
      "text/plain": [
       "   0\n",
       "0  3\n",
       "1  2\n",
       "2  2\n",
       "3  2\n",
       "4  3"
      ]
     },
     "execution_count": 43,
     "metadata": {},
     "output_type": "execute_result"
    }
   ],
   "source": [
    "# simulation\n",
    "nrows = 100_000\n",
    "ncols = 1\n",
    "\n",
    "rolls = np.random.poisson(mean, nrows * ncols).reshape(nrows,ncols)\n",
    "df = pd.DataFrame(rolls)\n",
    "df.head()"
   ]
  },
  {
   "cell_type": "code",
   "execution_count": 45,
   "id": "6ff54c89",
   "metadata": {},
   "outputs": [
    {
     "data": {
      "text/html": [
       "<div>\n",
       "<style scoped>\n",
       "    .dataframe tbody tr th:only-of-type {\n",
       "        vertical-align: middle;\n",
       "    }\n",
       "\n",
       "    .dataframe tbody tr th {\n",
       "        vertical-align: top;\n",
       "    }\n",
       "\n",
       "    .dataframe thead th {\n",
       "        text-align: right;\n",
       "    }\n",
       "</style>\n",
       "<table border=\"1\" class=\"dataframe\">\n",
       "  <thead>\n",
       "    <tr style=\"text-align: right;\">\n",
       "      <th></th>\n",
       "      <th>0</th>\n",
       "      <th>zero_cars</th>\n",
       "    </tr>\n",
       "  </thead>\n",
       "  <tbody>\n",
       "    <tr>\n",
       "      <th>0</th>\n",
       "      <td>3</td>\n",
       "      <td>False</td>\n",
       "    </tr>\n",
       "    <tr>\n",
       "      <th>1</th>\n",
       "      <td>2</td>\n",
       "      <td>False</td>\n",
       "    </tr>\n",
       "    <tr>\n",
       "      <th>2</th>\n",
       "      <td>2</td>\n",
       "      <td>False</td>\n",
       "    </tr>\n",
       "    <tr>\n",
       "      <th>3</th>\n",
       "      <td>2</td>\n",
       "      <td>False</td>\n",
       "    </tr>\n",
       "    <tr>\n",
       "      <th>4</th>\n",
       "      <td>3</td>\n",
       "      <td>False</td>\n",
       "    </tr>\n",
       "    <tr>\n",
       "      <th>...</th>\n",
       "      <td>...</td>\n",
       "      <td>...</td>\n",
       "    </tr>\n",
       "    <tr>\n",
       "      <th>99995</th>\n",
       "      <td>2</td>\n",
       "      <td>False</td>\n",
       "    </tr>\n",
       "    <tr>\n",
       "      <th>99996</th>\n",
       "      <td>2</td>\n",
       "      <td>False</td>\n",
       "    </tr>\n",
       "    <tr>\n",
       "      <th>99997</th>\n",
       "      <td>2</td>\n",
       "      <td>False</td>\n",
       "    </tr>\n",
       "    <tr>\n",
       "      <th>99998</th>\n",
       "      <td>1</td>\n",
       "      <td>False</td>\n",
       "    </tr>\n",
       "    <tr>\n",
       "      <th>99999</th>\n",
       "      <td>1</td>\n",
       "      <td>False</td>\n",
       "    </tr>\n",
       "  </tbody>\n",
       "</table>\n",
       "<p>100000 rows × 2 columns</p>\n",
       "</div>"
      ],
      "text/plain": [
       "       0  zero_cars\n",
       "0      3      False\n",
       "1      2      False\n",
       "2      2      False\n",
       "3      2      False\n",
       "4      3      False\n",
       "...   ..        ...\n",
       "99995  2      False\n",
       "99996  2      False\n",
       "99997  2      False\n",
       "99998  1      False\n",
       "99999  1      False\n",
       "\n",
       "[100000 rows x 2 columns]"
      ]
     },
     "execution_count": 45,
     "metadata": {},
     "output_type": "execute_result"
    }
   ],
   "source": [
    "df['zero_cars'] = df[0] == target\n",
    "df"
   ]
  },
  {
   "cell_type": "code",
   "execution_count": 46,
   "id": "3b5491b8",
   "metadata": {},
   "outputs": [
    {
     "data": {
      "text/plain": [
       "0.13363"
      ]
     },
     "execution_count": 46,
     "metadata": {},
     "output_type": "execute_result"
    }
   ],
   "source": [
    "df['zero_cars'].mean()"
   ]
  },
  {
   "cell_type": "code",
   "execution_count": 47,
   "id": "0d11b913",
   "metadata": {},
   "outputs": [
    {
     "data": {
      "text/plain": [
       "0.32332358381693654"
      ]
     },
     "execution_count": 47,
     "metadata": {},
     "output_type": "execute_result"
    }
   ],
   "source": [
    "# What is the probability that 3 or more cars come through the drive through?\n",
    "mean = 2\n",
    "target = 3\n",
    "\n",
    "p_3ormore_exp = stats.poisson(mean).sf(target - 1)\n",
    "p_3ormore_exp"
   ]
  },
  {
   "cell_type": "code",
   "execution_count": 48,
   "id": "7af4d04b",
   "metadata": {},
   "outputs": [
    {
     "data": {
      "text/html": [
       "<div>\n",
       "<style scoped>\n",
       "    .dataframe tbody tr th:only-of-type {\n",
       "        vertical-align: middle;\n",
       "    }\n",
       "\n",
       "    .dataframe tbody tr th {\n",
       "        vertical-align: top;\n",
       "    }\n",
       "\n",
       "    .dataframe thead th {\n",
       "        text-align: right;\n",
       "    }\n",
       "</style>\n",
       "<table border=\"1\" class=\"dataframe\">\n",
       "  <thead>\n",
       "    <tr style=\"text-align: right;\">\n",
       "      <th></th>\n",
       "      <th>0</th>\n",
       "      <th>zero_cars</th>\n",
       "    </tr>\n",
       "  </thead>\n",
       "  <tbody>\n",
       "    <tr>\n",
       "      <th>0</th>\n",
       "      <td>4</td>\n",
       "      <td>True</td>\n",
       "    </tr>\n",
       "    <tr>\n",
       "      <th>1</th>\n",
       "      <td>3</td>\n",
       "      <td>True</td>\n",
       "    </tr>\n",
       "    <tr>\n",
       "      <th>2</th>\n",
       "      <td>0</td>\n",
       "      <td>False</td>\n",
       "    </tr>\n",
       "    <tr>\n",
       "      <th>3</th>\n",
       "      <td>4</td>\n",
       "      <td>True</td>\n",
       "    </tr>\n",
       "    <tr>\n",
       "      <th>4</th>\n",
       "      <td>4</td>\n",
       "      <td>True</td>\n",
       "    </tr>\n",
       "  </tbody>\n",
       "</table>\n",
       "</div>"
      ],
      "text/plain": [
       "   0  zero_cars\n",
       "0  4       True\n",
       "1  3       True\n",
       "2  0      False\n",
       "3  4       True\n",
       "4  4       True"
      ]
     },
     "execution_count": 48,
     "metadata": {},
     "output_type": "execute_result"
    }
   ],
   "source": [
    "# simulation\n",
    "nrows = 100_000\n",
    "ncols = 1\n",
    "\n",
    "rolls = np.random.poisson(mean, nrows * ncols).reshape(nrows,ncols)\n",
    "df = pd.DataFrame(rolls)\n",
    "\n",
    "df['zero_cars'] = df[0] >= target\n",
    "df.head()"
   ]
  },
  {
   "cell_type": "code",
   "execution_count": 49,
   "id": "558cbc3f",
   "metadata": {},
   "outputs": [
    {
     "data": {
      "text/plain": [
       "0.32497"
      ]
     },
     "execution_count": 49,
     "metadata": {},
     "output_type": "execute_result"
    }
   ],
   "source": [
    "df['zero_cars'].mean()"
   ]
  },
  {
   "cell_type": "code",
   "execution_count": 50,
   "id": "dce883a1",
   "metadata": {},
   "outputs": [
    {
     "data": {
      "text/plain": [
       "0.8646647167633873"
      ]
     },
     "execution_count": 50,
     "metadata": {},
     "output_type": "execute_result"
    }
   ],
   "source": [
    "# How likely is it that the drive through gets at least 1 car?\n",
    "mean = 2\n",
    "target = 1\n",
    "p_atleast_1_exp = stats.poisson(mean).sf(target - 1)\n",
    "p_atleast_1_exp"
   ]
  },
  {
   "cell_type": "code",
   "execution_count": 51,
   "id": "10620a20",
   "metadata": {},
   "outputs": [],
   "source": [
    "nrows = 100_000\n",
    "ncols = 1\n",
    "\n",
    "rolls = np.random.poisson(mean, nrows * ncols).reshape(nrows,ncols)\n"
   ]
  },
  {
   "cell_type": "code",
   "execution_count": 5,
   "id": "01ceac38",
   "metadata": {},
   "outputs": [
    {
     "data": {
      "text/plain": [
       "Text(0.5, 0, 'Avg Number of Cars Waiting During the Noon Hour')"
      ]
     },
     "execution_count": 5,
     "metadata": {},
     "output_type": "execute_result"
    },
    {
     "data": {
      "image/png": "[encoded data removed]",
      "text/plain": [
       "<Figure size 648x432 with 1 Axes>"
      ]
     },
     "metadata": {
      "needs_background": "light"
     },
     "output_type": "display_data"
    }
   ],
   "source": [
    "x = range(10)\n",
    "y = stats.poisson(2).pmf(x)\n",
    "\n",
    "plt.figure(figsize=(9, 6))\n",
    "plt.bar(x, y, edgecolor='black', color='white', width=1)\n",
    "plt.xticks(x)\n",
    "plt.ylabel('P(X = x)')\n",
    "plt.xlabel('Avg Number of Cars Waiting During the Noon Hour')"
   ]
  },
  {
   "cell_type": "code",
   "execution_count": 6,
   "id": "51485953",
   "metadata": {},
   "outputs": [
    {
     "data": {
      "text/html": [
       "<div>\n",
       "<style scoped>\n",
       "    .dataframe tbody tr th:only-of-type {\n",
       "        vertical-align: middle;\n",
       "    }\n",
       "\n",
       "    .dataframe tbody tr th {\n",
       "        vertical-align: top;\n",
       "    }\n",
       "\n",
       "    .dataframe thead th {\n",
       "        text-align: right;\n",
       "    }\n",
       "</style>\n",
       "<table border=\"1\" class=\"dataframe\">\n",
       "  <thead>\n",
       "    <tr style=\"text-align: right;\">\n",
       "      <th></th>\n",
       "      <th>0</th>\n",
       "      <th>car_0</th>\n",
       "      <th>car_1</th>\n",
       "      <th>car_2</th>\n",
       "      <th>car_3</th>\n",
       "      <th>car_4</th>\n",
       "      <th>car_3ormore</th>\n",
       "      <th>at_least1</th>\n",
       "    </tr>\n",
       "  </thead>\n",
       "  <tbody>\n",
       "    <tr>\n",
       "      <th>0</th>\n",
       "      <td>3</td>\n",
       "      <td>False</td>\n",
       "      <td>False</td>\n",
       "      <td>False</td>\n",
       "      <td>True</td>\n",
       "      <td>False</td>\n",
       "      <td>True</td>\n",
       "      <td>True</td>\n",
       "    </tr>\n",
       "    <tr>\n",
       "      <th>1</th>\n",
       "      <td>2</td>\n",
       "      <td>False</td>\n",
       "      <td>False</td>\n",
       "      <td>True</td>\n",
       "      <td>False</td>\n",
       "      <td>False</td>\n",
       "      <td>False</td>\n",
       "      <td>True</td>\n",
       "    </tr>\n",
       "    <tr>\n",
       "      <th>2</th>\n",
       "      <td>3</td>\n",
       "      <td>False</td>\n",
       "      <td>False</td>\n",
       "      <td>False</td>\n",
       "      <td>True</td>\n",
       "      <td>False</td>\n",
       "      <td>True</td>\n",
       "      <td>True</td>\n",
       "    </tr>\n",
       "    <tr>\n",
       "      <th>3</th>\n",
       "      <td>2</td>\n",
       "      <td>False</td>\n",
       "      <td>False</td>\n",
       "      <td>True</td>\n",
       "      <td>False</td>\n",
       "      <td>False</td>\n",
       "      <td>False</td>\n",
       "      <td>True</td>\n",
       "    </tr>\n",
       "    <tr>\n",
       "      <th>4</th>\n",
       "      <td>2</td>\n",
       "      <td>False</td>\n",
       "      <td>False</td>\n",
       "      <td>True</td>\n",
       "      <td>False</td>\n",
       "      <td>False</td>\n",
       "      <td>False</td>\n",
       "      <td>True</td>\n",
       "    </tr>\n",
       "    <tr>\n",
       "      <th>...</th>\n",
       "      <td>...</td>\n",
       "      <td>...</td>\n",
       "      <td>...</td>\n",
       "      <td>...</td>\n",
       "      <td>...</td>\n",
       "      <td>...</td>\n",
       "      <td>...</td>\n",
       "      <td>...</td>\n",
       "    </tr>\n",
       "    <tr>\n",
       "      <th>999995</th>\n",
       "      <td>1</td>\n",
       "      <td>False</td>\n",
       "      <td>True</td>\n",
       "      <td>False</td>\n",
       "      <td>False</td>\n",
       "      <td>False</td>\n",
       "      <td>False</td>\n",
       "      <td>True</td>\n",
       "    </tr>\n",
       "    <tr>\n",
       "      <th>999996</th>\n",
       "      <td>3</td>\n",
       "      <td>False</td>\n",
       "      <td>False</td>\n",
       "      <td>False</td>\n",
       "      <td>True</td>\n",
       "      <td>False</td>\n",
       "      <td>True</td>\n",
       "      <td>True</td>\n",
       "    </tr>\n",
       "    <tr>\n",
       "      <th>999997</th>\n",
       "      <td>1</td>\n",
       "      <td>False</td>\n",
       "      <td>True</td>\n",
       "      <td>False</td>\n",
       "      <td>False</td>\n",
       "      <td>False</td>\n",
       "      <td>False</td>\n",
       "      <td>True</td>\n",
       "    </tr>\n",
       "    <tr>\n",
       "      <th>999998</th>\n",
       "      <td>2</td>\n",
       "      <td>False</td>\n",
       "      <td>False</td>\n",
       "      <td>True</td>\n",
       "      <td>False</td>\n",
       "      <td>False</td>\n",
       "      <td>False</td>\n",
       "      <td>True</td>\n",
       "    </tr>\n",
       "    <tr>\n",
       "      <th>999999</th>\n",
       "      <td>2</td>\n",
       "      <td>False</td>\n",
       "      <td>False</td>\n",
       "      <td>True</td>\n",
       "      <td>False</td>\n",
       "      <td>False</td>\n",
       "      <td>False</td>\n",
       "      <td>True</td>\n",
       "    </tr>\n",
       "  </tbody>\n",
       "</table>\n",
       "<p>1000000 rows × 8 columns</p>\n",
       "</div>"
      ],
      "text/plain": [
       "        0  car_0  car_1  car_2  car_3  car_4  car_3ormore  at_least1\n",
       "0       3  False  False  False   True  False         True       True\n",
       "1       2  False  False   True  False  False        False       True\n",
       "2       3  False  False  False   True  False         True       True\n",
       "3       2  False  False   True  False  False        False       True\n",
       "4       2  False  False   True  False  False        False       True\n",
       "...    ..    ...    ...    ...    ...    ...          ...        ...\n",
       "999995  1  False   True  False  False  False        False       True\n",
       "999996  3  False  False  False   True  False         True       True\n",
       "999997  1  False   True  False  False  False        False       True\n",
       "999998  2  False  False   True  False  False        False       True\n",
       "999999  2  False  False   True  False  False        False       True\n",
       "\n",
       "[1000000 rows x 8 columns]"
      ]
     },
     "execution_count": 6,
     "metadata": {},
     "output_type": "execute_result"
    }
   ],
   "source": [
    "x = random.poisson(lam=2, size=1000000)\n",
    "noon = pd.DataFrame(x)\n",
    "noon['car_0'] = noon[0] == 0\n",
    "noon['car_1'] = noon[0] == 1\n",
    "noon['car_2'] = noon[0] == 2\n",
    "noon['car_3'] = noon[0] == 3\n",
    "noon['car_4'] = noon[0] == 4\n",
    "noon['car_3ormore'] = noon[0] >= 3\n",
    "noon['at_least1'] = noon[0] > 0\n",
    "noon"
   ]
  },
  {
   "cell_type": "code",
   "execution_count": 7,
   "id": "f60539ea",
   "metadata": {},
   "outputs": [
    {
     "data": {
      "text/html": [
       "<div>\n",
       "<style scoped>\n",
       "    .dataframe tbody tr th:only-of-type {\n",
       "        vertical-align: middle;\n",
       "    }\n",
       "\n",
       "    .dataframe tbody tr th {\n",
       "        vertical-align: top;\n",
       "    }\n",
       "\n",
       "    .dataframe thead th {\n",
       "        text-align: right;\n",
       "    }\n",
       "</style>\n",
       "<table border=\"1\" class=\"dataframe\">\n",
       "  <thead>\n",
       "    <tr style=\"text-align: right;\">\n",
       "      <th></th>\n",
       "      <th>No Cars</th>\n",
       "      <th>3 or More Cars</th>\n",
       "      <th>At Least 1 Car</th>\n",
       "    </tr>\n",
       "  </thead>\n",
       "  <tbody>\n",
       "    <tr>\n",
       "      <th>Expected</th>\n",
       "      <td>0.135203</td>\n",
       "      <td>0.322881</td>\n",
       "      <td>0.864797</td>\n",
       "    </tr>\n",
       "    <tr>\n",
       "      <th>Observed</th>\n",
       "      <td>0.135335</td>\n",
       "      <td>0.323324</td>\n",
       "      <td>0.864665</td>\n",
       "    </tr>\n",
       "  </tbody>\n",
       "</table>\n",
       "</div>"
      ],
      "text/plain": [
       "           No Cars  3 or More Cars  At Least 1 Car\n",
       "Expected  0.135203        0.322881        0.864797\n",
       "Observed  0.135335        0.323324        0.864665"
      ]
     },
     "execution_count": 7,
     "metadata": {},
     "output_type": "execute_result"
    }
   ],
   "source": [
    "#Answering Theoretically\n",
    "p_no_cars = noon.car_0.mean()\n",
    "p_3ormore = noon.car_3ormore.mean()\n",
    "p_at_least1 = 1 - noon.car_0.mean()\n",
    "\n",
    "data = [[p_no_cars, p_3ormore, p_at_least1], [p_0_exp, p_3ormore_exp, p_atleast_1_exp]]\n",
    "rows = ['Expected', 'Observed']\n",
    "cols = ['No Cars', '3 or More Cars', 'At Least 1 Car']\n",
    "results = pd.DataFrame(data, rows, cols)\n",
    "results"
   ]
  },
  {
   "cell_type": "code",
   "execution_count": 8,
   "id": "91b6b942",
   "metadata": {},
   "outputs": [],
   "source": [
    "# sns.distplot(random.poisson(lam=lamda, size=n), kde=False)"
   ]
  },
  {
   "cell_type": "code",
   "execution_count": 9,
   "id": "d98c2da2",
   "metadata": {},
   "outputs": [],
   "source": [
    "# to plot a normal distribution : \n",
    "# μ = 3\n",
    "# σ = 0.3\n",
    "# x = np.linspace(μ - 3*σ, μ + 3*σ, 100)\n",
    "# plt.plot(x, stats.norm.pdf(x, μ, σ))"
   ]
  },
  {
   "cell_type": "code",
   "execution_count": 10,
   "id": "9b3766dc",
   "metadata": {},
   "outputs": [
    {
     "data": {
      "text/plain": [
       "3.4934560880854417"
      ]
     },
     "execution_count": 10,
     "metadata": {},
     "output_type": "execute_result"
    }
   ],
   "source": [
    "#2 Grades of State University graduates are normally distributed with \n",
    "# a mean of 3.0 and a standard deviation of .3. \n",
    "# Calculate the following:\n",
    "\n",
    "# What grade point average is required to be in the \n",
    "# top 5% of the graduating class?\n",
    "\n",
    "μ = 3.0\n",
    "σ = .3\n",
    "\n",
    "grades = stats.norm(μ,σ)\n",
    "\n",
    "\n",
    "\n",
    "top_5_percent = grades.ppf(.95)\n",
    "top_5_percent\n",
    "\n",
    "# or stats.norm(mean,sd).isf(.05)"
   ]
  },
  {
   "cell_type": "code",
   "execution_count": 11,
   "id": "db94bfbd",
   "metadata": {},
   "outputs": [
    {
     "name": "stderr",
     "output_type": "stream",
     "text": [
      "/opt/homebrew/anaconda3/lib/python3.8/site-packages/seaborn/distributions.py:2557: FutureWarning: `distplot` is a deprecated function and will be removed in a future version. Please adapt your code to use either `displot` (a figure-level function with similar flexibility) or `histplot` (an axes-level function for histograms).\n",
      "  warnings.warn(msg, FutureWarning)\n",
      "/opt/homebrew/anaconda3/lib/python3.8/site-packages/seaborn/_decorators.py:36: FutureWarning: Pass the following variables as keyword args: x, y. From version 0.12, the only valid positional argument will be `data`, and passing other arguments without an explicit keyword will result in an error or misinterpretation.\n",
      "  warnings.warn(\n"
     ]
    },
    {
     "data": {
      "image/png": "[encoded data removed]",
      "text/plain": [
       "<Figure size 432x288 with 1 Axes>"
      ]
     },
     "metadata": {
      "needs_background": "light"
     },
     "output_type": "display_data"
    }
   ],
   "source": [
    "# Simulation\n",
    "trials = n = 100_000\n",
    "sim = random.normal(μ,σ,n)\n",
    "sim = pd.DataFrame(sim)\n",
    "\n",
    "fig = plt.figure()\n",
    "\n",
    "obs = sns.distplot(sim)\n",
    "\n",
    "# Plot the Expected Distribution based on known parameters.\n",
    "# Expected\n",
    "x = np.linspace(μ - 3*σ, μ + 3*σ, 100)\n",
    "y = stats.norm.pdf(x, μ, σ)\n",
    "exp = sns.lineplot(x, y)\n",
    "exp.tick_params(axis='x')\n",
    "exp.tick_params(axis='y')"
   ]
  },
  {
   "cell_type": "code",
   "execution_count": 12,
   "id": "d80f2fad",
   "metadata": {},
   "outputs": [
    {
     "data": {
      "text/plain": [
       "2.689069983151863"
      ]
     },
     "execution_count": 12,
     "metadata": {},
     "output_type": "execute_result"
    }
   ],
   "source": [
    "# What GPA constitutes the bottom 15% of the class?\n",
    "\n",
    "bottom_fifteen = grades.ppf(.15)\n",
    "bottom_fifteen"
   ]
  },
  {
   "cell_type": "code",
   "execution_count": 13,
   "id": "31910a10",
   "metadata": {},
   "outputs": [
    {
     "data": {
      "text/plain": [
       "2.842679846187588"
      ]
     },
     "execution_count": 13,
     "metadata": {},
     "output_type": "execute_result"
    }
   ],
   "source": [
    "# An eccentric alumnus left scholarship money for students in the third decile from the bottom of their class. \n",
    "# Determine the range of the third decile. \n",
    "# Would a student with a 2.8 grade point average qualify for this scholarship?\n",
    "\n",
    "high_range = grades.isf(.7)\n",
    "high_range"
   ]
  },
  {
   "cell_type": "code",
   "execution_count": 14,
   "id": "a788710b",
   "metadata": {},
   "outputs": [
    {
     "data": {
      "text/plain": [
       "2.7475136299281258"
      ]
     },
     "execution_count": 14,
     "metadata": {},
     "output_type": "execute_result"
    }
   ],
   "source": [
    "low_range = grades.isf(.8)\n",
    "low_range"
   ]
  },
  {
   "cell_type": "code",
   "execution_count": 15,
   "id": "ac69eaf0",
   "metadata": {},
   "outputs": [],
   "source": [
    "# Yes, 2.8 would qualify"
   ]
  },
  {
   "cell_type": "code",
   "execution_count": 16,
   "id": "f70c7ad1",
   "metadata": {},
   "outputs": [
    {
     "data": {
      "text/plain": [
       "0.9522096477271853"
      ]
     },
     "execution_count": 16,
     "metadata": {},
     "output_type": "execute_result"
    }
   ],
   "source": [
    "# If I have a GPA of 3.5, what percentile am I in?\n",
    "grades.cdf(3.5)"
   ]
  },
  {
   "cell_type": "code",
   "execution_count": 17,
   "id": "c7b7b028",
   "metadata": {},
   "outputs": [
    {
     "data": {
      "text/plain": [
       "86.52"
      ]
     },
     "execution_count": 17,
     "metadata": {},
     "output_type": "execute_result"
    }
   ],
   "source": [
    "#3 A marketing website has an average click-through rate of 2%. One day they observe 4326 \n",
    "# visitors and 97 click-throughs. How likely is it that this many people or more click through?\n",
    "\n",
    "trials = 100_000\n",
    "rate = .02\n",
    "visitors = 4326\n",
    "observed = 97\n",
    "expected_clicks = rate * visitors\n",
    "expected_clicks"
   ]
  },
  {
   "cell_type": "code",
   "execution_count": 18,
   "id": "e422c42a",
   "metadata": {},
   "outputs": [
    {
     "data": {
      "text/html": [
       "<div>\n",
       "<style scoped>\n",
       "    .dataframe tbody tr th:only-of-type {\n",
       "        vertical-align: middle;\n",
       "    }\n",
       "\n",
       "    .dataframe tbody tr th {\n",
       "        vertical-align: top;\n",
       "    }\n",
       "\n",
       "    .dataframe thead th {\n",
       "        text-align: right;\n",
       "    }\n",
       "</style>\n",
       "<table border=\"1\" class=\"dataframe\">\n",
       "  <thead>\n",
       "    <tr style=\"text-align: right;\">\n",
       "      <th></th>\n",
       "      <th>click_throughs</th>\n",
       "    </tr>\n",
       "  </thead>\n",
       "  <tbody>\n",
       "    <tr>\n",
       "      <th>0</th>\n",
       "      <td>68</td>\n",
       "    </tr>\n",
       "    <tr>\n",
       "      <th>1</th>\n",
       "      <td>77</td>\n",
       "    </tr>\n",
       "    <tr>\n",
       "      <th>2</th>\n",
       "      <td>79</td>\n",
       "    </tr>\n",
       "    <tr>\n",
       "      <th>3</th>\n",
       "      <td>96</td>\n",
       "    </tr>\n",
       "    <tr>\n",
       "      <th>4</th>\n",
       "      <td>89</td>\n",
       "    </tr>\n",
       "    <tr>\n",
       "      <th>...</th>\n",
       "      <td>...</td>\n",
       "    </tr>\n",
       "    <tr>\n",
       "      <th>99995</th>\n",
       "      <td>84</td>\n",
       "    </tr>\n",
       "    <tr>\n",
       "      <th>99996</th>\n",
       "      <td>100</td>\n",
       "    </tr>\n",
       "    <tr>\n",
       "      <th>99997</th>\n",
       "      <td>86</td>\n",
       "    </tr>\n",
       "    <tr>\n",
       "      <th>99998</th>\n",
       "      <td>86</td>\n",
       "    </tr>\n",
       "    <tr>\n",
       "      <th>99999</th>\n",
       "      <td>85</td>\n",
       "    </tr>\n",
       "  </tbody>\n",
       "</table>\n",
       "<p>100000 rows × 1 columns</p>\n",
       "</div>"
      ],
      "text/plain": [
       "       click_throughs\n",
       "0                  68\n",
       "1                  77\n",
       "2                  79\n",
       "3                  96\n",
       "4                  89\n",
       "...               ...\n",
       "99995              84\n",
       "99996             100\n",
       "99997              86\n",
       "99998              86\n",
       "99999              85\n",
       "\n",
       "[100000 rows x 1 columns]"
      ]
     },
     "execution_count": 18,
     "metadata": {},
     "output_type": "execute_result"
    }
   ],
   "source": [
    "# Simulation\n",
    "sim = pd.DataFrame(np.random.poisson(expected_clicks, trials)).rename(columns={0: 'click_throughs'})\n",
    "sim"
   ]
  },
  {
   "cell_type": "code",
   "execution_count": 19,
   "id": "d5d16b45",
   "metadata": {},
   "outputs": [
    {
     "data": {
      "text/plain": [
       "0.14211867659283192"
      ]
     },
     "execution_count": 19,
     "metadata": {},
     "output_type": "execute_result"
    }
   ],
   "source": [
    "# How likely is it that 97 people or more click through?\n",
    "exp = stats.poisson(expected_clicks)\n",
    "\n",
    "exp.sf(96)"
   ]
  },
  {
   "cell_type": "code",
   "execution_count": 20,
   "id": "a172ba78",
   "metadata": {},
   "outputs": [
    {
     "data": {
      "text/plain": [
       "0.4528433576092388"
      ]
     },
     "execution_count": 20,
     "metadata": {},
     "output_type": "execute_result"
    }
   ],
   "source": [
    "#4 You are working on some statistics homework consisting of 100 questions where all of the answers \n",
    "# are a probability rounded to the hundreths place. \n",
    "# Looking to save time, you put down random probabilities as the answer to each question.\n",
    "# What is the probability that at least one of your first 60 answers is correct?\n",
    "\n",
    "homework = stats.binom(60,1/100).sf(0)\n",
    "homework"
   ]
  },
  {
   "cell_type": "code",
   "execution_count": 21,
   "id": "25a54b6a",
   "metadata": {},
   "outputs": [
    {
     "data": {
      "text/plain": [
       "0.4528433576092388"
      ]
     },
     "execution_count": 21,
     "metadata": {},
     "output_type": "execute_result"
    }
   ],
   "source": [
    "# Theoretical\n",
    "p_right = 1/100\n",
    "p_wrong = 1 - p_right\n",
    "\n",
    "# Chance you are wrong 60 times in a row:\n",
    "p_wrong_60inarow = p_wrong**60\n",
    "\n",
    "p_right_in_first60_exp = 1 - p_wrong_60inarow\n",
    "p_right_in_first60_exp"
   ]
  },
  {
   "cell_type": "code",
   "execution_count": 22,
   "id": "0758f6cc",
   "metadata": {},
   "outputs": [
    {
     "data": {
      "text/plain": [
       "0.8316987919743856"
      ]
     },
     "execution_count": 22,
     "metadata": {},
     "output_type": "execute_result"
    }
   ],
   "source": [
    "#5 The codeup staff tends to get upset when the student break area is not cleaned up. \n",
    "# Suppose that there's a 3% chance that any one student cleans the break area when they visit it, \n",
    "# and, on any given day, about 90% of the 3 active cohorts of 22 students visit the break area. \n",
    "# How likely is it that the break area gets cleaned up each day? \n",
    "\n",
    "chance = .03\n",
    "students = 66*.9\n",
    "avg_clean_perday = students * chance\n",
    "\n",
    "stats.poisson(avg_clean_perday).sf(0)"
   ]
  },
  {
   "cell_type": "code",
   "execution_count": 23,
   "id": "0c691752",
   "metadata": {},
   "outputs": [
    {
     "data": {
      "text/plain": [
       "0.028325296622881146"
      ]
     },
     "execution_count": 23,
     "metadata": {},
     "output_type": "execute_result"
    }
   ],
   "source": [
    "# How likely is it that it goes two days without getting cleaned up?\n",
    "\n",
    "p_not_cleaned_daily = stats.poisson(avg_clean_perday).cdf(0)\n",
    "p_not_cleaned_2days = p_not_cleaned_daily**2\n",
    "p_not_cleaned_2days"
   ]
  },
  {
   "cell_type": "code",
   "execution_count": 24,
   "id": "73fe7c1d",
   "metadata": {},
   "outputs": [
    {
     "data": {
      "text/plain": [
       "0.0001350318339887432"
      ]
     },
     "execution_count": 24,
     "metadata": {},
     "output_type": "execute_result"
    }
   ],
   "source": [
    "# All week?\n",
    "p_not_cleaned_weekdays = p_not_cleaned_daily**5\n",
    "p_not_cleaned_weekdays"
   ]
  },
  {
   "cell_type": "code",
   "execution_count": 25,
   "id": "89eb4ea4",
   "metadata": {},
   "outputs": [
    {
     "data": {
      "text/plain": [
       "0.7976716190363569"
      ]
     },
     "execution_count": 25,
     "metadata": {},
     "output_type": "execute_result"
    }
   ],
   "source": [
    "#6 You want to get lunch at La Panaderia, but notice that the line is usually very long at lunchtime. \n",
    "# After several weeks of careful observation, you notice that the average number of people in line when \n",
    "# your lunch break starts is normally distributed with a mean of 15 and standard deviation of 3. \n",
    "# If it takes 2 minutes for each person to order, and 10 minutes from ordering to getting your food, \n",
    "# what is the likelihood that you have at least 15 minutes left to eat your food before you have to go back to class? \n",
    "# Assume you have one hour for lunch, and ignore travel time to and from La Panaderia.\n",
    "\n",
    "μ = 15\n",
    "ø = 3\n",
    "\n",
    "wait = stats.norm((μ*2)+10,(ø*2))\n",
    "wait.cdf(45)"
   ]
  },
  {
   "cell_type": "code",
   "execution_count": 26,
   "id": "826908bc",
   "metadata": {},
   "outputs": [],
   "source": [
    "#7 Connect to the employees database and find the average salary of current employees, along with the standard deviation. \n",
    "# For the following questions, calculate the answer based on modeling the employees salaries with a \n",
    "# normal distribution defined by the calculated mean and standard \n",
    "# deviation then compare this answer to the actual values present in the salaries dataset.\n",
    "\n",
    "from env import host, user, password\n",
    "url = f'mysql+pymysql://{user}:{password}@{host}/employees'"
   ]
  },
  {
   "cell_type": "code",
   "execution_count": 27,
   "id": "6237a48b",
   "metadata": {},
   "outputs": [
    {
     "data": {
      "text/html": [
       "<div>\n",
       "<style scoped>\n",
       "    .dataframe tbody tr th:only-of-type {\n",
       "        vertical-align: middle;\n",
       "    }\n",
       "\n",
       "    .dataframe tbody tr th {\n",
       "        vertical-align: top;\n",
       "    }\n",
       "\n",
       "    .dataframe thead th {\n",
       "        text-align: right;\n",
       "    }\n",
       "</style>\n",
       "<table border=\"1\" class=\"dataframe\">\n",
       "  <thead>\n",
       "    <tr style=\"text-align: right;\">\n",
       "      <th></th>\n",
       "      <th>emp_no</th>\n",
       "      <th>birth_date</th>\n",
       "      <th>first_name</th>\n",
       "      <th>last_name</th>\n",
       "      <th>gender</th>\n",
       "      <th>hire_date</th>\n",
       "    </tr>\n",
       "  </thead>\n",
       "  <tbody>\n",
       "    <tr>\n",
       "      <th>0</th>\n",
       "      <td>10051</td>\n",
       "      <td>1953-07-28</td>\n",
       "      <td>Hidefumi</td>\n",
       "      <td>Caine</td>\n",
       "      <td>M</td>\n",
       "      <td>1992-10-15</td>\n",
       "    </tr>\n",
       "    <tr>\n",
       "      <th>1</th>\n",
       "      <td>10052</td>\n",
       "      <td>1961-02-26</td>\n",
       "      <td>Heping</td>\n",
       "      <td>Nitsch</td>\n",
       "      <td>M</td>\n",
       "      <td>1988-05-21</td>\n",
       "    </tr>\n",
       "    <tr>\n",
       "      <th>2</th>\n",
       "      <td>10053</td>\n",
       "      <td>1954-09-13</td>\n",
       "      <td>Sanjiv</td>\n",
       "      <td>Zschoche</td>\n",
       "      <td>F</td>\n",
       "      <td>1986-02-04</td>\n",
       "    </tr>\n",
       "    <tr>\n",
       "      <th>3</th>\n",
       "      <td>10054</td>\n",
       "      <td>1957-04-04</td>\n",
       "      <td>Mayumi</td>\n",
       "      <td>Schueller</td>\n",
       "      <td>M</td>\n",
       "      <td>1995-03-13</td>\n",
       "    </tr>\n",
       "    <tr>\n",
       "      <th>4</th>\n",
       "      <td>10055</td>\n",
       "      <td>1956-06-06</td>\n",
       "      <td>Georgy</td>\n",
       "      <td>Dredge</td>\n",
       "      <td>M</td>\n",
       "      <td>1992-04-27</td>\n",
       "    </tr>\n",
       "  </tbody>\n",
       "</table>\n",
       "</div>"
      ],
      "text/plain": [
       "   emp_no  birth_date first_name  last_name gender   hire_date\n",
       "0   10051  1953-07-28   Hidefumi      Caine      M  1992-10-15\n",
       "1   10052  1961-02-26     Heping     Nitsch      M  1988-05-21\n",
       "2   10053  1954-09-13     Sanjiv   Zschoche      F  1986-02-04\n",
       "3   10054  1957-04-04     Mayumi  Schueller      M  1995-03-13\n",
       "4   10055  1956-06-06     Georgy     Dredge      M  1992-04-27"
      ]
     },
     "execution_count": 27,
     "metadata": {},
     "output_type": "execute_result"
    }
   ],
   "source": [
    "pd.read_sql('SELECT * FROM employees LIMIT 5 OFFSET 50', url)"
   ]
  },
  {
   "cell_type": "code",
   "execution_count": 28,
   "id": "83b73c88",
   "metadata": {},
   "outputs": [
    {
     "data": {
      "text/html": [
       "<div>\n",
       "<style scoped>\n",
       "    .dataframe tbody tr th:only-of-type {\n",
       "        vertical-align: middle;\n",
       "    }\n",
       "\n",
       "    .dataframe tbody tr th {\n",
       "        vertical-align: top;\n",
       "    }\n",
       "\n",
       "    .dataframe thead th {\n",
       "        text-align: right;\n",
       "    }\n",
       "</style>\n",
       "<table border=\"1\" class=\"dataframe\">\n",
       "  <thead>\n",
       "    <tr style=\"text-align: right;\">\n",
       "      <th></th>\n",
       "      <th>emp_no</th>\n",
       "      <th>birth_date</th>\n",
       "      <th>first_name</th>\n",
       "      <th>last_name</th>\n",
       "      <th>gender</th>\n",
       "      <th>hire_date</th>\n",
       "    </tr>\n",
       "  </thead>\n",
       "  <tbody>\n",
       "    <tr>\n",
       "      <th>0</th>\n",
       "      <td>10001</td>\n",
       "      <td>1953-09-02</td>\n",
       "      <td>Georgi</td>\n",
       "      <td>Facello</td>\n",
       "      <td>M</td>\n",
       "      <td>1986-06-26</td>\n",
       "    </tr>\n",
       "    <tr>\n",
       "      <th>1</th>\n",
       "      <td>10002</td>\n",
       "      <td>1964-06-02</td>\n",
       "      <td>Bezalel</td>\n",
       "      <td>Simmel</td>\n",
       "      <td>F</td>\n",
       "      <td>1985-11-21</td>\n",
       "    </tr>\n",
       "    <tr>\n",
       "      <th>2</th>\n",
       "      <td>10003</td>\n",
       "      <td>1959-12-03</td>\n",
       "      <td>Parto</td>\n",
       "      <td>Bamford</td>\n",
       "      <td>M</td>\n",
       "      <td>1986-08-28</td>\n",
       "    </tr>\n",
       "    <tr>\n",
       "      <th>3</th>\n",
       "      <td>10004</td>\n",
       "      <td>1954-05-01</td>\n",
       "      <td>Chirstian</td>\n",
       "      <td>Koblick</td>\n",
       "      <td>M</td>\n",
       "      <td>1986-12-01</td>\n",
       "    </tr>\n",
       "    <tr>\n",
       "      <th>4</th>\n",
       "      <td>10005</td>\n",
       "      <td>1955-01-21</td>\n",
       "      <td>Kyoichi</td>\n",
       "      <td>Maliniak</td>\n",
       "      <td>M</td>\n",
       "      <td>1989-09-12</td>\n",
       "    </tr>\n",
       "  </tbody>\n",
       "</table>\n",
       "</div>"
      ],
      "text/plain": [
       "   emp_no  birth_date first_name last_name gender   hire_date\n",
       "0   10001  1953-09-02     Georgi   Facello      M  1986-06-26\n",
       "1   10002  1964-06-02    Bezalel    Simmel      F  1985-11-21\n",
       "2   10003  1959-12-03      Parto   Bamford      M  1986-08-28\n",
       "3   10004  1954-05-01  Chirstian   Koblick      M  1986-12-01\n",
       "4   10005  1955-01-21    Kyoichi  Maliniak      M  1989-09-12"
      ]
     },
     "execution_count": 28,
     "metadata": {},
     "output_type": "execute_result"
    }
   ],
   "source": [
    "emp_sql = '''\n",
    "SELECT *\n",
    "FROM employees\n",
    "'''\n",
    "employees = pd.read_sql(emp_sql, url)\n",
    "employees.head()"
   ]
  },
  {
   "cell_type": "code",
   "execution_count": 29,
   "id": "8448c17d",
   "metadata": {},
   "outputs": [
    {
     "data": {
      "text/html": [
       "<div>\n",
       "<style scoped>\n",
       "    .dataframe tbody tr th:only-of-type {\n",
       "        vertical-align: middle;\n",
       "    }\n",
       "\n",
       "    .dataframe tbody tr th {\n",
       "        vertical-align: top;\n",
       "    }\n",
       "\n",
       "    .dataframe thead th {\n",
       "        text-align: right;\n",
       "    }\n",
       "</style>\n",
       "<table border=\"1\" class=\"dataframe\">\n",
       "  <thead>\n",
       "    <tr style=\"text-align: right;\">\n",
       "      <th></th>\n",
       "      <th>emp_no</th>\n",
       "      <th>salary</th>\n",
       "      <th>from_date</th>\n",
       "      <th>to_date</th>\n",
       "    </tr>\n",
       "  </thead>\n",
       "  <tbody>\n",
       "    <tr>\n",
       "      <th>0</th>\n",
       "      <td>10001</td>\n",
       "      <td>88958</td>\n",
       "      <td>2002-06-22</td>\n",
       "      <td>9999-01-01</td>\n",
       "    </tr>\n",
       "    <tr>\n",
       "      <th>1</th>\n",
       "      <td>10002</td>\n",
       "      <td>72527</td>\n",
       "      <td>2001-08-02</td>\n",
       "      <td>9999-01-01</td>\n",
       "    </tr>\n",
       "    <tr>\n",
       "      <th>2</th>\n",
       "      <td>10003</td>\n",
       "      <td>43311</td>\n",
       "      <td>2001-12-01</td>\n",
       "      <td>9999-01-01</td>\n",
       "    </tr>\n",
       "    <tr>\n",
       "      <th>3</th>\n",
       "      <td>10004</td>\n",
       "      <td>74057</td>\n",
       "      <td>2001-11-27</td>\n",
       "      <td>9999-01-01</td>\n",
       "    </tr>\n",
       "    <tr>\n",
       "      <th>4</th>\n",
       "      <td>10005</td>\n",
       "      <td>94692</td>\n",
       "      <td>2001-09-09</td>\n",
       "      <td>9999-01-01</td>\n",
       "    </tr>\n",
       "  </tbody>\n",
       "</table>\n",
       "</div>"
      ],
      "text/plain": [
       "   emp_no  salary   from_date     to_date\n",
       "0   10001   88958  2002-06-22  9999-01-01\n",
       "1   10002   72527  2001-08-02  9999-01-01\n",
       "2   10003   43311  2001-12-01  9999-01-01\n",
       "3   10004   74057  2001-11-27  9999-01-01\n",
       "4   10005   94692  2001-09-09  9999-01-01"
      ]
     },
     "execution_count": 29,
     "metadata": {},
     "output_type": "execute_result"
    }
   ],
   "source": [
    "salaries_sql = '''\n",
    "SELECT *\n",
    "FROM salaries\n",
    "WHERE to_date > now()'''\n",
    "salaries = pd.read_sql(salaries_sql,url)\n",
    "salaries.head()"
   ]
  },
  {
   "cell_type": "code",
   "execution_count": 30,
   "id": "6c2bebd6",
   "metadata": {},
   "outputs": [
    {
     "data": {
      "text/plain": [
       "72012.23585730705"
      ]
     },
     "execution_count": 30,
     "metadata": {},
     "output_type": "execute_result"
    }
   ],
   "source": [
    "μ = salaries.salary.mean()\n",
    "μ"
   ]
  },
  {
   "cell_type": "code",
   "execution_count": 31,
   "id": "41a5a214",
   "metadata": {},
   "outputs": [],
   "source": [
    "σ = salaries.salary.std()\n",
    "σ\n",
    "\n",
    "salaries_exp = stats.norm(μ,σ)"
   ]
  },
  {
   "cell_type": "code",
   "execution_count": 32,
   "id": "94df6b63",
   "metadata": {},
   "outputs": [],
   "source": [
    "# observed salaries\n",
    "obs = salaries_obs = pd.read_sql(salaries_sql, url)"
   ]
  },
  {
   "cell_type": "code",
   "execution_count": 33,
   "id": "f6626440",
   "metadata": {},
   "outputs": [
    {
     "data": {
      "text/plain": [
       "0.24385742480214423"
      ]
     },
     "execution_count": 33,
     "metadata": {},
     "output_type": "execute_result"
    }
   ],
   "source": [
    "# A. What percent of employees earn less than 60,000?\n",
    "p_lessthan_60k = salaries_exp.cdf(60_000)\n",
    "p_lessthan_60k"
   ]
  },
  {
   "cell_type": "code",
   "execution_count": 34,
   "id": "2ab57fff",
   "metadata": {},
   "outputs": [
    {
     "data": {
      "text/plain": [
       "0.2705727041028802"
      ]
     },
     "execution_count": 34,
     "metadata": {},
     "output_type": "execute_result"
    }
   ],
   "source": [
    "# observed\n",
    "obs['less_than_60k'] = obs.salary < 60_000\n",
    "obs.less_than_60k.mean()"
   ]
  },
  {
   "cell_type": "code",
   "execution_count": 35,
   "id": "71885d92",
   "metadata": {},
   "outputs": [
    {
     "data": {
      "text/plain": [
       "0.09208819199804053"
      ]
     },
     "execution_count": 35,
     "metadata": {},
     "output_type": "execute_result"
    }
   ],
   "source": [
    "# What percent of employees earn more than 95,000?\n",
    "p_morethan_95k = salaries_exp.sf(95_000)\n",
    "p_morethan_95k"
   ]
  },
  {
   "cell_type": "code",
   "execution_count": 36,
   "id": "e0889608",
   "metadata": {},
   "outputs": [
    {
     "data": {
      "text/plain": [
       "0.1086272092752078"
      ]
     },
     "execution_count": 36,
     "metadata": {},
     "output_type": "execute_result"
    }
   ],
   "source": [
    "# observed\n",
    "obs['more_than_95k'] = obs.salary > 95_000\n",
    "obs.more_than_95k.mean()"
   ]
  },
  {
   "cell_type": "code",
   "execution_count": 37,
   "id": "d46ae6a2",
   "metadata": {},
   "outputs": [
    {
     "data": {
      "text/plain": [
       "0.44549196191109997"
      ]
     },
     "execution_count": 37,
     "metadata": {},
     "output_type": "execute_result"
    }
   ],
   "source": [
    "# What percent of employees earn between 65k and 80k?\n",
    "\n",
    "# low_end\n",
    "p_more_than_65k = salaries_exp.sf(65_000)\n",
    "\n",
    "# high_end\n",
    "p_less_than_80k = salaries_exp.cdf(80_000)\n",
    "\n",
    "# union\n",
    "p_more_than_65_and_less_than_80 = p_more_than_65k * p_less_than_80k\n",
    "p_more_than_65_and_less_than_80"
   ]
  },
  {
   "cell_type": "code",
   "execution_count": 38,
   "id": "e6f0b284",
   "metadata": {},
   "outputs": [
    {
     "data": {
      "text/plain": [
       "0.5071129916209958"
      ]
     },
     "execution_count": 38,
     "metadata": {},
     "output_type": "execute_result"
    }
   ],
   "source": [
    "# Observed\n",
    "obs['morethan65k'] = obs.salary > 65_000\n",
    "obs['lessthan95k'] = obs.salary < 95_000\n",
    "obs['between_65_95'] = obs.morethan65k & obs.lessthan95k\n",
    "obs.between_65_95.mean()"
   ]
  },
  {
   "cell_type": "code",
   "execution_count": 39,
   "id": "f3bacfd2",
   "metadata": {},
   "outputs": [
    {
     "data": {
      "text/plain": [
       "100484.64454102775"
      ]
     },
     "execution_count": 39,
     "metadata": {},
     "output_type": "execute_result"
    }
   ],
   "source": [
    "# What do the top 5% make?\n",
    "\n",
    "top_5_salary_exp = salaries_exp.ppf(0.95)\n",
    "top_5_salary_exp"
   ]
  }
 ],
 "metadata": {
  "kernelspec": {
   "display_name": "Python 3.8.8 64-bit ('base': conda)",
   "language": "python",
   "name": "python388jvsc74a57bd0b64057e63add2b45b1ffc7eab9b09c8889b419c878e2fdf0d08f837f0fc857a7"
  },
  "language_info": {
   "codemirror_mode": {
    "name": "ipython",
    "version": 3
   },
   "file_extension": ".py",
   "mimetype": "text/x-python",
   "name": "python",
   "nbconvert_exporter": "python",
   "pygments_lexer": "ipython3",
   "version": "3.8.8"
  }
 },
 "nbformat": 4,
 "nbformat_minor": 5
}
