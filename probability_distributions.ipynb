{
 "cells": [
  {
   "cell_type": "code",
   "execution_count": 2,
   "id": "9d359f79",
   "metadata": {},
   "outputs": [],
   "source": [
    "import matplotlib.pyplot as plt\n",
    "import numpy as np\n",
    "from scipy import stats"
   ]
  },
  {
   "cell_type": "code",
   "execution_count": 3,
   "id": "39b2d1d2",
   "metadata": {},
   "outputs": [
    {
     "data": {
      "text/plain": [
       "0.1353352832366127"
      ]
     },
     "execution_count": 3,
     "metadata": {},
     "output_type": "execute_result"
    }
   ],
   "source": [
    "#1 A bank found that the average number of cars waiting during the \n",
    "# noon hour at a drive-up window follows a Poisson distribution \n",
    "# with a mean of 2 cars. Make a chart of this distribution and \n",
    "# answer these questions concerning the probability of cars \n",
    "# waiting at the drive-up window.\n",
    "\n",
    "\n",
    "# What is the probability that no cars drive up in the noon hour?\n",
    "stats.poisson(2).pmf(0)"
   ]
  },
  {
   "cell_type": "code",
   "execution_count": 4,
   "id": "0d11b913",
   "metadata": {},
   "outputs": [
    {
     "data": {
      "text/plain": [
       "0.14287653950145296"
      ]
     },
     "execution_count": 4,
     "metadata": {},
     "output_type": "execute_result"
    }
   ],
   "source": [
    "# What is the probability that 3 or more cars come through the drive through?\n",
    "stats.poisson(2).sf(3)"
   ]
  },
  {
   "cell_type": "code",
   "execution_count": 5,
   "id": "dce883a1",
   "metadata": {},
   "outputs": [
    {
     "data": {
      "text/plain": [
       "0.5939941502901616"
      ]
     },
     "execution_count": 5,
     "metadata": {},
     "output_type": "execute_result"
    }
   ],
   "source": [
    "# How likely is it that the drive through gets at least 1 car?\n",
    "stats.poisson(2).sf(1)"
   ]
  },
  {
   "cell_type": "code",
   "execution_count": 10,
   "id": "01ceac38",
   "metadata": {},
   "outputs": [
    {
     "data": {
      "text/plain": [
       "Text(0.5, 0, 'Avg Number of Cars Waiting During the Noon Hour')"
      ]
     },
     "execution_count": 10,
     "metadata": {},
     "output_type": "execute_result"
    },
    {
     "data": {
      "image/png": "[encoded data removed]",
      "text/plain": [
       "<Figure size 648x432 with 1 Axes>"
      ]
     },
     "metadata": {
      "needs_background": "light"
     },
     "output_type": "display_data"
    }
   ],
   "source": [
    "x = range(10)\n",
    "y = stats.poisson(2).pmf(x)\n",
    "\n",
    "plt.figure(figsize=(9, 6))\n",
    "plt.bar(x, y, edgecolor='black', color='white', width=1)\n",
    "plt.xticks(x)\n",
    "plt.ylabel('P(X = x)')\n",
    "plt.xlabel('Avg Number of Cars Waiting During the Noon Hour')"
   ]
  },
  {
   "cell_type": "code",
   "execution_count": null,
   "id": "91b6b942",
   "metadata": {},
   "outputs": [],
   "source": [
    "# sns.distplot(random.poisson(lam=lamda, size=n), kde=False)"
   ]
  },
  {
   "cell_type": "code",
   "execution_count": 26,
   "id": "9b3766dc",
   "metadata": {},
   "outputs": [
    {
     "data": {
      "text/plain": [
       "3.4934560880854417"
      ]
     },
     "execution_count": 26,
     "metadata": {},
     "output_type": "execute_result"
    }
   ],
   "source": [
    "#2 Grades of State University graduates are normally distributed with \n",
    "# a mean of 3.0 and a standard deviation of .3. \n",
    "# Calculate the following:\n",
    "\n",
    "# What grade point average is required to be in the \n",
    "# top 5% of the graduating class?\n",
    "\n",
    "mean = 3.0\n",
    "std = .3\n",
    "\n",
    "grades = stats.norm(mean,std)\n",
    "\n",
    "top_5_percent = grades.ppf(.95)\n",
    "top_5_percent"
   ]
  },
  {
   "cell_type": "code",
   "execution_count": 27,
   "id": "d80f2fad",
   "metadata": {},
   "outputs": [
    {
     "data": {
      "text/plain": [
       "2.689069983151863"
      ]
     },
     "execution_count": 27,
     "metadata": {},
     "output_type": "execute_result"
    }
   ],
   "source": [
    "# What GPA constitutes the bottom 15% of the class?\n",
    "\n",
    "bottom_fifteen = grades.ppf(.15)\n",
    "bottom_fifteen"
   ]
  },
  {
   "cell_type": "code",
   "execution_count": 32,
   "id": "31910a10",
   "metadata": {},
   "outputs": [
    {
     "data": {
      "text/plain": [
       "2.842679846187588"
      ]
     },
     "execution_count": 32,
     "metadata": {},
     "output_type": "execute_result"
    }
   ],
   "source": [
    "# An eccentric alumnus left scholarship money for students in the third decile from the bottom of their class. \n",
    "# Determine the range of the third decile. \n",
    "# Would a student with a 2.8 grade point average qualify for this scholarship?\n",
    "\n",
    "high_range = grades.isf(.7)\n",
    "high_range"
   ]
  },
  {
   "cell_type": "code",
   "execution_count": 34,
   "id": "a788710b",
   "metadata": {},
   "outputs": [
    {
     "data": {
      "text/plain": [
       "2.7475136299281258"
      ]
     },
     "execution_count": 34,
     "metadata": {},
     "output_type": "execute_result"
    }
   ],
   "source": [
    "low_range = grades.isf(.8)\n",
    "low_range"
   ]
  },
  {
   "cell_type": "code",
   "execution_count": null,
   "id": "ac69eaf0",
   "metadata": {},
   "outputs": [],
   "source": [
    "# Yes, 2.8 would qualify"
   ]
  },
  {
   "cell_type": "code",
   "execution_count": 38,
   "id": "f70c7ad1",
   "metadata": {},
   "outputs": [
    {
     "data": {
      "text/plain": [
       "0.9522096477271853"
      ]
     },
     "execution_count": 38,
     "metadata": {},
     "output_type": "execute_result"
    }
   ],
   "source": [
    "# If I have a GPA of 3.5, what percentile am I in?\n",
    "grades.cdf(3.5)"
   ]
  },
  {
   "cell_type": "code",
   "execution_count": null,
   "id": "c7b7b028",
   "metadata": {},
   "outputs": [],
   "source": [
    "#3 A marketing website has an average click-through rate of 2%. One day they observe 4326 \n",
    "# visitors and 97 click-throughs. How likely is it that this many people or more click through?\n",
    "\n"
   ]
  }
 ],
 "metadata": {
  "kernelspec": {
   "display_name": "Python 3.8.8 64-bit ('base': conda)",
   "language": "python",
   "name": "python388jvsc74a57bd0b64057e63add2b45b1ffc7eab9b09c8889b419c878e2fdf0d08f837f0fc857a7"
  },
  "language_info": {
   "codemirror_mode": {
    "name": "ipython",
    "version": 3
   },
   "file_extension": ".py",
   "mimetype": "text/x-python",
   "name": "python",
   "nbconvert_exporter": "python",
   "pygments_lexer": "ipython3",
   "version": "3.8.8"
  }
 },
 "nbformat": 4,
 "nbformat_minor": 5
}
