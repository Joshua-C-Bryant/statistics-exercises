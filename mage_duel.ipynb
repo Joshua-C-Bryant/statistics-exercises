{
 "cells": [
  {
   "cell_type": "markdown",
   "id": "bb658847",
   "metadata": {},
   "source": [
    "### Mage Duel"
   ]
  },
  {
   "cell_type": "code",
   "execution_count": 1,
   "id": "8e42c1c3",
   "metadata": {},
   "outputs": [],
   "source": [
    "import numpy as np\n",
    "import pandas as pd"
   ]
  },
  {
   "cell_type": "code",
   "execution_count": 13,
   "id": "cb4cc968",
   "metadata": {},
   "outputs": [
    {
     "data": {
      "text/plain": [
       "0      20\n",
       "1      12\n",
       "2      17\n",
       "3      14\n",
       "4      13\n",
       "       ..\n",
       "995    10\n",
       "996    12\n",
       "997    17\n",
       "998    11\n",
       "999    16\n",
       "Length: 1000, dtype: int64"
      ]
     },
     "execution_count": 13,
     "metadata": {},
     "output_type": "execute_result"
    }
   ],
   "source": [
    "trials = 1000\n",
    "\n",
    "mage1_die = [1,2,3,4]\n",
    "mage1_rolls = np.random.choice(mage1_die, size=(trials,6))\n",
    "mage1_rolls = pd.DataFrame(mage1_rolls)\n",
    "mage1_rolls\n",
    "\n",
    "mage1_power = mage1_rolls.sum(axis=1)\n",
    "mage1_power"
   ]
  },
  {
   "cell_type": "code",
   "execution_count": 14,
   "id": "8d5be25f",
   "metadata": {},
   "outputs": [
    {
     "data": {
      "text/plain": [
       "0       9\n",
       "1      11\n",
       "2      11\n",
       "3      10\n",
       "4      11\n",
       "       ..\n",
       "995    14\n",
       "996     7\n",
       "997     9\n",
       "998     8\n",
       "999    10\n",
       "Length: 1000, dtype: int64"
      ]
     },
     "execution_count": 14,
     "metadata": {},
     "output_type": "execute_result"
    }
   ],
   "source": [
    "mage2_die = [1,2,3,4,5,6]\n",
    "\n",
    "mage2_rolls = np.random.choice(mage1_die, size=(trials,4))\n",
    "mage2_rolls = pd.DataFrame(mage2_rolls)\n",
    "mage2_rolls\n",
    "\n",
    "mage2_power = mage2_rolls.sum(axis=1)\n",
    "mage2_power"
   ]
  },
  {
   "cell_type": "code",
   "execution_count": 24,
   "id": "26a88656",
   "metadata": {},
   "outputs": [
    {
     "data": {
      "text/html": [
       "<div>\n",
       "<style scoped>\n",
       "    .dataframe tbody tr th:only-of-type {\n",
       "        vertical-align: middle;\n",
       "    }\n",
       "\n",
       "    .dataframe tbody tr th {\n",
       "        vertical-align: top;\n",
       "    }\n",
       "\n",
       "    .dataframe thead th {\n",
       "        text-align: right;\n",
       "    }\n",
       "</style>\n",
       "<table border=\"1\" class=\"dataframe\">\n",
       "  <thead>\n",
       "    <tr style=\"text-align: right;\">\n",
       "      <th></th>\n",
       "      <th>mage_1</th>\n",
       "      <th>mage_2</th>\n",
       "    </tr>\n",
       "  </thead>\n",
       "  <tbody>\n",
       "    <tr>\n",
       "      <th>0</th>\n",
       "      <td>20</td>\n",
       "      <td>9</td>\n",
       "    </tr>\n",
       "    <tr>\n",
       "      <th>1</th>\n",
       "      <td>12</td>\n",
       "      <td>11</td>\n",
       "    </tr>\n",
       "    <tr>\n",
       "      <th>2</th>\n",
       "      <td>17</td>\n",
       "      <td>11</td>\n",
       "    </tr>\n",
       "    <tr>\n",
       "      <th>3</th>\n",
       "      <td>14</td>\n",
       "      <td>10</td>\n",
       "    </tr>\n",
       "    <tr>\n",
       "      <th>4</th>\n",
       "      <td>13</td>\n",
       "      <td>11</td>\n",
       "    </tr>\n",
       "    <tr>\n",
       "      <th>...</th>\n",
       "      <td>...</td>\n",
       "      <td>...</td>\n",
       "    </tr>\n",
       "    <tr>\n",
       "      <th>995</th>\n",
       "      <td>10</td>\n",
       "      <td>14</td>\n",
       "    </tr>\n",
       "    <tr>\n",
       "      <th>996</th>\n",
       "      <td>12</td>\n",
       "      <td>7</td>\n",
       "    </tr>\n",
       "    <tr>\n",
       "      <th>997</th>\n",
       "      <td>17</td>\n",
       "      <td>9</td>\n",
       "    </tr>\n",
       "    <tr>\n",
       "      <th>998</th>\n",
       "      <td>11</td>\n",
       "      <td>8</td>\n",
       "    </tr>\n",
       "    <tr>\n",
       "      <th>999</th>\n",
       "      <td>16</td>\n",
       "      <td>10</td>\n",
       "    </tr>\n",
       "  </tbody>\n",
       "</table>\n",
       "<p>1000 rows × 2 columns</p>\n",
       "</div>"
      ],
      "text/plain": [
       "     mage_1  mage_2\n",
       "0        20       9\n",
       "1        12      11\n",
       "2        17      11\n",
       "3        14      10\n",
       "4        13      11\n",
       "..      ...     ...\n",
       "995      10      14\n",
       "996      12       7\n",
       "997      17       9\n",
       "998      11       8\n",
       "999      16      10\n",
       "\n",
       "[1000 rows x 2 columns]"
      ]
     },
     "execution_count": 24,
     "metadata": {},
     "output_type": "execute_result"
    }
   ],
   "source": [
    "mage_duel = pd.DataFrame(mage1_power,columns = ['mage_1'])\n",
    "mage_2 = pd.DataFrame(mage2_power,columns = ['mage_2'])\n",
    "mage_duel['mage_2'] = mage2_power\n",
    "mage_duel"
   ]
  },
  {
   "cell_type": "code",
   "execution_count": 26,
   "id": "91fba83f",
   "metadata": {},
   "outputs": [
    {
     "data": {
      "text/html": [
       "<div>\n",
       "<style scoped>\n",
       "    .dataframe tbody tr th:only-of-type {\n",
       "        vertical-align: middle;\n",
       "    }\n",
       "\n",
       "    .dataframe tbody tr th {\n",
       "        vertical-align: top;\n",
       "    }\n",
       "\n",
       "    .dataframe thead th {\n",
       "        text-align: right;\n",
       "    }\n",
       "</style>\n",
       "<table border=\"1\" class=\"dataframe\">\n",
       "  <thead>\n",
       "    <tr style=\"text-align: right;\">\n",
       "      <th></th>\n",
       "      <th>mage_1</th>\n",
       "      <th>mage_2</th>\n",
       "      <th>winner</th>\n",
       "    </tr>\n",
       "  </thead>\n",
       "  <tbody>\n",
       "    <tr>\n",
       "      <th>0</th>\n",
       "      <td>20</td>\n",
       "      <td>9</td>\n",
       "      <td>mage 1</td>\n",
       "    </tr>\n",
       "    <tr>\n",
       "      <th>1</th>\n",
       "      <td>12</td>\n",
       "      <td>11</td>\n",
       "      <td>mage 1</td>\n",
       "    </tr>\n",
       "    <tr>\n",
       "      <th>2</th>\n",
       "      <td>17</td>\n",
       "      <td>11</td>\n",
       "      <td>mage 1</td>\n",
       "    </tr>\n",
       "    <tr>\n",
       "      <th>3</th>\n",
       "      <td>14</td>\n",
       "      <td>10</td>\n",
       "      <td>mage 1</td>\n",
       "    </tr>\n",
       "    <tr>\n",
       "      <th>4</th>\n",
       "      <td>13</td>\n",
       "      <td>11</td>\n",
       "      <td>mage 1</td>\n",
       "    </tr>\n",
       "    <tr>\n",
       "      <th>...</th>\n",
       "      <td>...</td>\n",
       "      <td>...</td>\n",
       "      <td>...</td>\n",
       "    </tr>\n",
       "    <tr>\n",
       "      <th>995</th>\n",
       "      <td>10</td>\n",
       "      <td>14</td>\n",
       "      <td>mage 2</td>\n",
       "    </tr>\n",
       "    <tr>\n",
       "      <th>996</th>\n",
       "      <td>12</td>\n",
       "      <td>7</td>\n",
       "      <td>mage 1</td>\n",
       "    </tr>\n",
       "    <tr>\n",
       "      <th>997</th>\n",
       "      <td>17</td>\n",
       "      <td>9</td>\n",
       "      <td>mage 1</td>\n",
       "    </tr>\n",
       "    <tr>\n",
       "      <th>998</th>\n",
       "      <td>11</td>\n",
       "      <td>8</td>\n",
       "      <td>mage 1</td>\n",
       "    </tr>\n",
       "    <tr>\n",
       "      <th>999</th>\n",
       "      <td>16</td>\n",
       "      <td>10</td>\n",
       "      <td>mage 1</td>\n",
       "    </tr>\n",
       "  </tbody>\n",
       "</table>\n",
       "<p>1000 rows × 3 columns</p>\n",
       "</div>"
      ],
      "text/plain": [
       "     mage_1  mage_2  winner\n",
       "0        20       9  mage 1\n",
       "1        12      11  mage 1\n",
       "2        17      11  mage 1\n",
       "3        14      10  mage 1\n",
       "4        13      11  mage 1\n",
       "..      ...     ...     ...\n",
       "995      10      14  mage 2\n",
       "996      12       7  mage 1\n",
       "997      17       9  mage 1\n",
       "998      11       8  mage 1\n",
       "999      16      10  mage 1\n",
       "\n",
       "[1000 rows x 3 columns]"
      ]
     },
     "execution_count": 26,
     "metadata": {},
     "output_type": "execute_result"
    }
   ],
   "source": [
    "mage_duel['winner'] = np.where(mage_duel['mage_1'] > mage_duel['mage_2'], 'mage 1', 'mage 2')\n",
    "mage_duel"
   ]
  },
  {
   "cell_type": "code",
   "execution_count": 27,
   "id": "4d266221",
   "metadata": {},
   "outputs": [
    {
     "data": {
      "text/plain": [
       "mage 1    887\n",
       "mage 2    113\n",
       "Name: winner, dtype: int64"
      ]
     },
     "execution_count": 27,
     "metadata": {},
     "output_type": "execute_result"
    }
   ],
   "source": [
    "mage_duel['winner'].value_counts()"
   ]
  }
 ],
 "metadata": {
  "kernelspec": {
   "display_name": "Python 3.8.8 64-bit ('base': conda)",
   "language": "python",
   "name": "python388jvsc74a57bd0b64057e63add2b45b1ffc7eab9b09c8889b419c878e2fdf0d08f837f0fc857a7"
  },
  "language_info": {
   "codemirror_mode": {
    "name": "ipython",
    "version": 3
   },
   "file_extension": ".py",
   "mimetype": "text/x-python",
   "name": "python",
   "nbconvert_exporter": "python",
   "pygments_lexer": "ipython3",
   "version": "3.8.8"
  }
 },
 "nbformat": 4,
 "nbformat_minor": 5
}
