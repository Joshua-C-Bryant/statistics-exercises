{
 "cells": [
  {
   "cell_type": "code",
   "execution_count": 4,
   "id": "91de2c6a",
   "metadata": {},
   "outputs": [],
   "source": [
    "import pandas as pd\n",
    "import matplotlib.pyplot as plt\n",
    "import scipy.stats as stats\n",
    "import seaborn as sns\n",
    "import numpy as np"
   ]
  },
  {
   "cell_type": "code",
   "execution_count": 5,
   "id": "e918304c",
   "metadata": {},
   "outputs": [
    {
     "data": {
      "text/plain": [
       "0.12281969339874403"
      ]
     },
     "execution_count": 5,
     "metadata": {},
     "output_type": "execute_result"
    }
   ],
   "source": [
    "n = 618\n",
    "p = .1\n",
    "\n",
    "customers = stats.binom(618,1/10).sf(70)\n",
    "customers"
   ]
  },
  {
   "cell_type": "code",
   "execution_count": 9,
   "id": "39a87b39",
   "metadata": {},
   "outputs": [
    {
     "data": {
      "text/plain": [
       "0.7475074624530771"
      ]
     },
     "execution_count": 9,
     "metadata": {},
     "output_type": "execute_result"
    }
   ],
   "source": [
    "μ = 40\n",
    "σ = 15\n",
    "walk = 10\n",
    "\n",
    "time = stats.norm(μ + 10, σ)\n",
    "time.cdf(60)"
   ]
  },
  {
   "cell_type": "code",
   "execution_count": null,
   "id": "619d9306",
   "metadata": {},
   "outputs": [],
   "source": []
  }
 ],
 "metadata": {
  "kernelspec": {
   "display_name": "Python 3.8.8 64-bit ('base': conda)",
   "language": "python",
   "name": "python388jvsc74a57bd0b64057e63add2b45b1ffc7eab9b09c8889b419c878e2fdf0d08f837f0fc857a7"
  },
  "language_info": {
   "codemirror_mode": {
    "name": "ipython",
    "version": 3
   },
   "file_extension": ".py",
   "mimetype": "text/x-python",
   "name": "python",
   "nbconvert_exporter": "python",
   "pygments_lexer": "ipython3",
   "version": "3.8.8"
  }
 },
 "nbformat": 4,
 "nbformat_minor": 5
}
